{
  "nbformat": 4,
  "nbformat_minor": 0,
  "metadata": {
    "colab": {
      "name": "pro 1.ipynb",
      "provenance": []
    },
    "kernelspec": {
      "name": "python3",
      "display_name": "Python 3"
    }
  },
  "cells": [
    {
      "cell_type": "code",
      "metadata": {
        "id": "HZlEAszDTGcU",
        "colab_type": "code",
        "colab": {
          "base_uri": "https://localhost:8080/",
          "height": 168
        },
        "outputId": "fc8c973e-deff-4d0d-993d-26eeddf89bfa"
      },
      "source": [
        "list=[]\n",
        "num=int(input(\"how many numbers:\"))\n",
        "for n in range(num):\n",
        "    numbers=int(input(\"enter number\"))\n",
        "    list.append(numbers)\n",
        "print(\"maximum element in the list is:\",max(list))\n",
        "print(\"maximun element in the list is:\",min(list))"
      ],
      "execution_count": 1,
      "outputs": [
        {
          "output_type": "stream",
          "text": [
            "how many numbers:6\n",
            "enter number5\n",
            "enter number4\n",
            "enter number6\n",
            "enter number3\n",
            "enter number7\n",
            "enter number8\n",
            "maximum element in the list is: 8\n",
            "maximun element in the list is: 3\n"
          ],
          "name": "stdout"
        }
      ]
    }
  ]
}