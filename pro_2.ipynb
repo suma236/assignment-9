{
  "nbformat": 4,
  "nbformat_minor": 0,
  "metadata": {
    "colab": {
      "name": "pro 2.ipynb",
      "provenance": []
    },
    "kernelspec": {
      "name": "python3",
      "display_name": "Python 3"
    }
  },
  "cells": [
    {
      "cell_type": "code",
      "metadata": {
        "id": "0xhkWLSUT95f",
        "colab_type": "code",
        "colab": {
          "base_uri": "https://localhost:8080/",
          "height": 34
        },
        "outputId": "59d1c1b0-618f-4f21-c8ab-c88faccb405b"
      },
      "source": [
        "def enquiry(list1):\n",
        "    if len(list1)==0:\n",
        "        return 0\n",
        "    else:\n",
        "        return 1\n",
        "list1=[]\n",
        "if enquiry(list1):\n",
        "    print(\"the list is not empty\")\n",
        "else:\n",
        "    print(\"empty list\")"
      ],
      "execution_count": 1,
      "outputs": [
        {
          "output_type": "stream",
          "text": [
            "empty list\n"
          ],
          "name": "stdout"
        }
      ]
    }
  ]
}