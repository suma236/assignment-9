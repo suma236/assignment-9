{
  "nbformat": 4,
  "nbformat_minor": 0,
  "metadata": {
    "colab": {
      "name": "pro 3.ipynb",
      "provenance": []
    },
    "kernelspec": {
      "name": "python3",
      "display_name": "Python 3"
    }
  },
  "cells": [
    {
      "cell_type": "code",
      "metadata": {
        "id": "mV1LjYR7Ujyd",
        "colab_type": "code",
        "colab": {
          "base_uri": "https://localhost:8080/",
          "height": 34
        },
        "outputId": "e19376db-d83a-46a8-eec0-bec2e7a2425d"
      },
      "source": [
        "def multiply_list(items):\n",
        "    tot=1\n",
        "    for x in items:\n",
        "        tot*=x\n",
        "        return tot\n",
        "print(multiply_list([1,2,-8]))"
      ],
      "execution_count": 1,
      "outputs": [
        {
          "output_type": "stream",
          "text": [
            "1\n"
          ],
          "name": "stdout"
        }
      ]
    }
  ]
}