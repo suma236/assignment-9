{
  "nbformat": 4,
  "nbformat_minor": 0,
  "metadata": {
    "colab": {
      "name": "pro 5.ipynb",
      "provenance": []
    },
    "kernelspec": {
      "name": "python3",
      "display_name": "Python 3"
    }
  },
  "cells": [
    {
      "cell_type": "code",
      "metadata": {
        "id": "k9pmUlVUVQhA",
        "colab_type": "code",
        "colab": {
          "base_uri": "https://localhost:8080/",
          "height": 34
        },
        "outputId": "ccab0a39-413a-4fce-eb98-0e07a1cb7632"
      },
      "source": [
        "from random import shuffle\n",
        "color=['red','green','white','black','pink','yellow']\n",
        "shuffle(color)\n",
        "print(color)"
      ],
      "execution_count": 1,
      "outputs": [
        {
          "output_type": "stream",
          "text": [
            "['black', 'yellow', 'green', 'red', 'white', 'pink']\n"
          ],
          "name": "stdout"
        }
      ]
    }
  ]
}