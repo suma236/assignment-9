{
  "nbformat": 4,
  "nbformat_minor": 0,
  "metadata": {
    "colab": {
      "name": "pro 6.ipynb",
      "provenance": []
    },
    "kernelspec": {
      "name": "python3",
      "display_name": "Python 3"
    }
  },
  "cells": [
    {
      "cell_type": "code",
      "metadata": {
        "id": "GBMSA40XVqYS",
        "colab_type": "code",
        "colab": {
          "base_uri": "https://localhost:8080/",
          "height": 34
        },
        "outputId": "c0dcffd6-7f94-4331-bc82-5641e3e412f2"
      },
      "source": [
        "list1=[1,3,5,7,9]\n",
        "list2=[1,2,4,6,7,8]\n",
        "diff_list1_list2=list(set(list1)-set(list2))\n",
        "diff_list2_list1=list(set(list2)-set(list1))\n",
        "total_diff=diff_list1_list2+diff_list2_list1\n",
        "print(total_diff)"
      ],
      "execution_count": 1,
      "outputs": [
        {
          "output_type": "stream",
          "text": [
            "[9, 3, 5, 8, 2, 4, 6]\n"
          ],
          "name": "stdout"
        }
      ]
    }
  ]
}